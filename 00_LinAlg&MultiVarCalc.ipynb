{
 "cells": [
  {
   "cell_type": "markdown",
   "metadata": {},
   "source": [
    "This is part of the course material from http://cs229.stanford.edu/materials/ps0.pdf"
   ]
  },
  {
   "cell_type": "code",
   "execution_count": 1,
   "metadata": {},
   "outputs": [],
   "source": [
    "import autograd.numpy as np\n",
    "from autograd import grad\n",
    "import sys\n",
    "import os"
   ]
  },
  {
   "cell_type": "markdown",
   "metadata": {},
   "source": [
    "Given that A $\\in$ $\\mathbb{R^{n*n}}$ is a symmetric matrix and b $\\in$ $\\mathbb{R^n}$ is a vector and the function\n",
    "\n",
    "$f(x) = \\frac{1}{2} \\ X^TAX + b^TX$\n",
    "\n",
    "Find the following:\n",
    "\n",
    "1) $\\triangledown f(x)$\n"
   ]
  },
  {
   "cell_type": "code",
   "execution_count": 31,
   "metadata": {},
   "outputs": [],
   "source": [
    "def grad_function(x):\n",
    "    inter_val = 0.5 * (np.matmul(np.matmul(x.T, A),x))\n",
    "    return  inter_val + np.matmul(b.T, x)"
   ]
  },
  {
   "cell_type": "code",
   "execution_count": 33,
   "metadata": {},
   "outputs": [
    {
     "name": "stdout",
     "output_type": "stream",
     "text": [
      "(2,)\n"
     ]
    }
   ],
   "source": [
    "# first part of the question:\n",
    "A = A = np.eye(2, dtype=int)\n",
    "\n",
    "b = np.ones(2)\n",
    "X = np.ones(2)\n",
    "final = grad(grad_function)(X)\n",
    "print(final.shape)"
   ]
  },
  {
   "cell_type": "markdown",
   "metadata": {},
   "source": [
    "Logically this makes sense:\n",
    "\n",
    "$\\triangledown {\\frac{1}{2} \\ X^TAX}$ = $2 \\ AX$ and $\\triangledown \\ b^TX$ = b\n",
    "\n",
    "This will lead to $2 \\ AX + b $ which in the sample values passed will be\n",
    "\n",
    "$$ \\triangledown f(x) = \\begin{bmatrix} 1 \\\\ 1  \\end{bmatrix} + \\begin{bmatrix} 1 \\\\ 1 \\end{bmatrix} = \\begin{bmatrix} 2 \\\\ 2 \\end{bmatrix}$$ "
   ]
  },
  {
   "cell_type": "code",
   "execution_count": null,
   "metadata": {},
   "outputs": [],
   "source": []
  }
 ],
 "metadata": {
  "kernelspec": {
   "display_name": "Python 3",
   "language": "python",
   "name": "python3"
  },
  "language_info": {
   "codemirror_mode": {
    "name": "ipython",
    "version": 3
   },
   "file_extension": ".py",
   "mimetype": "text/x-python",
   "name": "python",
   "nbconvert_exporter": "python",
   "pygments_lexer": "ipython3",
   "version": "3.7.7"
  }
 },
 "nbformat": 4,
 "nbformat_minor": 4
}
